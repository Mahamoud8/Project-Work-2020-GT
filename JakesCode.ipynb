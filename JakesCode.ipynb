{
 "cells": [
  {
   "cell_type": "code",
   "execution_count": 1,
   "metadata": {},
   "outputs": [],
   "source": [
    "#dependencies\n",
    "%matplotlib inline\n",
    "import matplotlib.pyplot as plt\n",
    "import pandas as pd\n",
    "import numpy as np\n",
    "import scipy.stats as st\n",
    "from scipy.stats import linregress"
   ]
  },
  {
   "cell_type": "code",
   "execution_count": 2,
   "metadata": {},
   "outputs": [
    {
     "data": {
      "text/html": [
       "<div>\n",
       "<style scoped>\n",
       "    .dataframe tbody tr th:only-of-type {\n",
       "        vertical-align: middle;\n",
       "    }\n",
       "\n",
       "    .dataframe tbody tr th {\n",
       "        vertical-align: top;\n",
       "    }\n",
       "\n",
       "    .dataframe thead th {\n",
       "        text-align: right;\n",
       "    }\n",
       "</style>\n",
       "<table border=\"1\" class=\"dataframe\">\n",
       "  <thead>\n",
       "    <tr style=\"text-align: right;\">\n",
       "      <th></th>\n",
       "      <th>Loan Amount</th>\n",
       "      <th>City</th>\n",
       "      <th>State</th>\n",
       "      <th>Zip</th>\n",
       "      <th>NAICSCode</th>\n",
       "      <th>BusinessType</th>\n",
       "      <th>RaceEthnicity</th>\n",
       "      <th>Gender</th>\n",
       "      <th>Veteran</th>\n",
       "      <th>NonProfit</th>\n",
       "      <th>JobsRetained</th>\n",
       "      <th>DateApproved</th>\n",
       "      <th>Lender</th>\n",
       "      <th>CD</th>\n",
       "    </tr>\n",
       "  </thead>\n",
       "  <tbody>\n",
       "    <tr>\n",
       "      <th>0</th>\n",
       "      <td>$149,998.30</td>\n",
       "      <td>DECATUR</td>\n",
       "      <td>GA</td>\n",
       "      <td>30033</td>\n",
       "      <td>621210.0</td>\n",
       "      <td>Limited  Liability Company(LLC)</td>\n",
       "      <td>Unanswered</td>\n",
       "      <td>Male Owned</td>\n",
       "      <td>Unanswered</td>\n",
       "      <td>NaN</td>\n",
       "      <td>14.0</td>\n",
       "      <td>4/14/2020</td>\n",
       "      <td>Newton Federal Bank</td>\n",
       "      <td>GA - 04</td>\n",
       "    </tr>\n",
       "    <tr>\n",
       "      <th>1</th>\n",
       "      <td>$149,981.92</td>\n",
       "      <td>BLACKSHEAR</td>\n",
       "      <td>GA</td>\n",
       "      <td>31516</td>\n",
       "      <td>713910.0</td>\n",
       "      <td>Non-Profit Organization</td>\n",
       "      <td>White</td>\n",
       "      <td>Male Owned</td>\n",
       "      <td>Unanswered</td>\n",
       "      <td>Y</td>\n",
       "      <td>32.0</td>\n",
       "      <td>4/28/2020</td>\n",
       "      <td>Primesouth Bank</td>\n",
       "      <td>GA - 01</td>\n",
       "    </tr>\n",
       "    <tr>\n",
       "      <th>2</th>\n",
       "      <td>$149,952.00</td>\n",
       "      <td>ELLENWOOD</td>\n",
       "      <td>GA</td>\n",
       "      <td>30294</td>\n",
       "      <td>812199.0</td>\n",
       "      <td>Limited  Liability Company(LLC)</td>\n",
       "      <td>Unanswered</td>\n",
       "      <td>Unanswered</td>\n",
       "      <td>Unanswered</td>\n",
       "      <td>NaN</td>\n",
       "      <td>14.0</td>\n",
       "      <td>6/18/2020</td>\n",
       "      <td>WebBank</td>\n",
       "      <td>GA - 04</td>\n",
       "    </tr>\n",
       "    <tr>\n",
       "      <th>3</th>\n",
       "      <td>$149,952.00</td>\n",
       "      <td>DECATUR</td>\n",
       "      <td>GA</td>\n",
       "      <td>30034</td>\n",
       "      <td>484121.0</td>\n",
       "      <td>Limited  Liability Company(LLC)</td>\n",
       "      <td>Unanswered</td>\n",
       "      <td>Unanswered</td>\n",
       "      <td>Unanswered</td>\n",
       "      <td>NaN</td>\n",
       "      <td>11.0</td>\n",
       "      <td>6/20/2020</td>\n",
       "      <td>WebBank</td>\n",
       "      <td>GA - 04</td>\n",
       "    </tr>\n",
       "    <tr>\n",
       "      <th>4</th>\n",
       "      <td>$149,924.00</td>\n",
       "      <td>ATLANTA</td>\n",
       "      <td>GA</td>\n",
       "      <td>30338</td>\n",
       "      <td>339116.0</td>\n",
       "      <td>Corporation</td>\n",
       "      <td>Unanswered</td>\n",
       "      <td>Unanswered</td>\n",
       "      <td>Unanswered</td>\n",
       "      <td>NaN</td>\n",
       "      <td>0.0</td>\n",
       "      <td>4/29/2020</td>\n",
       "      <td>Wells Fargo Bank, National Association</td>\n",
       "      <td>GA - 06</td>\n",
       "    </tr>\n",
       "  </tbody>\n",
       "</table>\n",
       "</div>"
      ],
      "text/plain": [
       "   Loan Amount         City State    Zip  NAICSCode  \\\n",
       "0  $149,998.30      DECATUR    GA  30033   621210.0   \n",
       "1  $149,981.92   BLACKSHEAR    GA  31516   713910.0   \n",
       "2  $149,952.00    ELLENWOOD    GA  30294   812199.0   \n",
       "3  $149,952.00      DECATUR    GA  30034   484121.0   \n",
       "4  $149,924.00      ATLANTA    GA  30338   339116.0   \n",
       "\n",
       "                      BusinessType RaceEthnicity      Gender     Veteran  \\\n",
       "0  Limited  Liability Company(LLC)    Unanswered  Male Owned  Unanswered   \n",
       "1          Non-Profit Organization         White  Male Owned  Unanswered   \n",
       "2  Limited  Liability Company(LLC)    Unanswered  Unanswered  Unanswered   \n",
       "3  Limited  Liability Company(LLC)    Unanswered  Unanswered  Unanswered   \n",
       "4                      Corporation    Unanswered  Unanswered  Unanswered   \n",
       "\n",
       "  NonProfit  JobsRetained DateApproved  \\\n",
       "0       NaN          14.0    4/14/2020   \n",
       "1         Y          32.0    4/28/2020   \n",
       "2       NaN          14.0    6/18/2020   \n",
       "3       NaN          11.0    6/20/2020   \n",
       "4       NaN           0.0    4/29/2020   \n",
       "\n",
       "                                   Lender       CD  \n",
       "0                     Newton Federal Bank  GA - 04  \n",
       "1                         Primesouth Bank  GA - 01  \n",
       "2                                 WebBank  GA - 04  \n",
       "3                                 WebBank  GA - 04  \n",
       "4  Wells Fargo Bank, National Association  GA - 06  "
      ]
     },
     "execution_count": 2,
     "metadata": {},
     "output_type": "execute_result"
    }
   ],
   "source": [
    "PPP_data = pd.read_csv('PPP Data/PPP Data 150k GA.csv')\n",
    "PPP_data.head()"
   ]
  },
  {
   "cell_type": "code",
   "execution_count": 3,
   "metadata": {},
   "outputs": [
    {
     "data": {
      "text/plain": [
       "877"
      ]
     },
     "execution_count": 3,
     "metadata": {},
     "output_type": "execute_result"
    }
   ],
   "source": [
    "total_zip = PPP_data[\"Zip\"].nunique()\n",
    "total_zip"
   ]
  },
  {
   "cell_type": "code",
   "execution_count": 4,
   "metadata": {},
   "outputs": [],
   "source": [
    "PPP_data.rename(columns = {\" LoanAmount \":\"Loan Amount\"}, inplace=True)"
   ]
  },
  {
   "cell_type": "code",
   "execution_count": 5,
   "metadata": {},
   "outputs": [
    {
     "data": {
      "text/plain": [
       "Index([' Loan Amount ', 'City', 'State', 'Zip', 'NAICSCode', 'BusinessType',\n",
       "       'RaceEthnicity', 'Gender', 'Veteran', 'NonProfit', 'JobsRetained',\n",
       "       'DateApproved', 'Lender', 'CD'],\n",
       "      dtype='object')"
      ]
     },
     "execution_count": 5,
     "metadata": {},
     "output_type": "execute_result"
    }
   ],
   "source": [
    "PPP_data.columns"
   ]
  },
  {
   "cell_type": "code",
   "execution_count": 6,
   "metadata": {},
   "outputs": [],
   "source": [
    "def elises_func(stringy):\n",
    "        our_float = stringy.replace(\"   \",\"\").replace(\"  \",\"\").replace(\" \",\"\").replace(\",\",\"\").replace(\"$\",\"\").replace(\"-\",\"\")\n",
    "        if not our_float:\n",
    "            our_float = 0\n",
    "        else:\n",
    "            our_float = float(our_float)\n",
    "        return our_float"
   ]
  },
  {
   "cell_type": "code",
   "execution_count": 7,
   "metadata": {},
   "outputs": [
    {
     "data": {
      "text/plain": [
       " Loan Amount     138519\n",
       "City             138519\n",
       "State            138519\n",
       "Zip              138519\n",
       "NAICSCode        136247\n",
       "BusinessType     138486\n",
       "RaceEthnicity    138519\n",
       "Gender           138519\n",
       "Veteran          138519\n",
       "NonProfit          3832\n",
       "JobsRetained     128834\n",
       "DateApproved     138519\n",
       "Lender           138519\n",
       "CD               138519\n",
       "dtype: int64"
      ]
     },
     "execution_count": 7,
     "metadata": {},
     "output_type": "execute_result"
    }
   ],
   "source": [
    "PPP_data.count()"
   ]
  },
  {
   "cell_type": "code",
   "execution_count": 8,
   "metadata": {},
   "outputs": [
    {
     "ename": "KeyError",
     "evalue": "'Loan Amount'",
     "output_type": "error",
     "traceback": [
      "\u001b[1;31m---------------------------------------------------------------------------\u001b[0m",
      "\u001b[1;31mKeyError\u001b[0m                                  Traceback (most recent call last)",
      "\u001b[1;32m~\\anaconda3\\lib\\site-packages\\pandas\\core\\indexes\\base.py\u001b[0m in \u001b[0;36mget_loc\u001b[1;34m(self, key, method, tolerance)\u001b[0m\n\u001b[0;32m   2645\u001b[0m             \u001b[1;32mtry\u001b[0m\u001b[1;33m:\u001b[0m\u001b[1;33m\u001b[0m\u001b[1;33m\u001b[0m\u001b[0m\n\u001b[1;32m-> 2646\u001b[1;33m                 \u001b[1;32mreturn\u001b[0m \u001b[0mself\u001b[0m\u001b[1;33m.\u001b[0m\u001b[0m_engine\u001b[0m\u001b[1;33m.\u001b[0m\u001b[0mget_loc\u001b[0m\u001b[1;33m(\u001b[0m\u001b[0mkey\u001b[0m\u001b[1;33m)\u001b[0m\u001b[1;33m\u001b[0m\u001b[1;33m\u001b[0m\u001b[0m\n\u001b[0m\u001b[0;32m   2647\u001b[0m             \u001b[1;32mexcept\u001b[0m \u001b[0mKeyError\u001b[0m\u001b[1;33m:\u001b[0m\u001b[1;33m\u001b[0m\u001b[1;33m\u001b[0m\u001b[0m\n",
      "\u001b[1;32mpandas\\_libs\\index.pyx\u001b[0m in \u001b[0;36mpandas._libs.index.IndexEngine.get_loc\u001b[1;34m()\u001b[0m\n",
      "\u001b[1;32mpandas\\_libs\\index.pyx\u001b[0m in \u001b[0;36mpandas._libs.index.IndexEngine.get_loc\u001b[1;34m()\u001b[0m\n",
      "\u001b[1;32mpandas\\_libs\\hashtable_class_helper.pxi\u001b[0m in \u001b[0;36mpandas._libs.hashtable.PyObjectHashTable.get_item\u001b[1;34m()\u001b[0m\n",
      "\u001b[1;32mpandas\\_libs\\hashtable_class_helper.pxi\u001b[0m in \u001b[0;36mpandas._libs.hashtable.PyObjectHashTable.get_item\u001b[1;34m()\u001b[0m\n",
      "\u001b[1;31mKeyError\u001b[0m: 'Loan Amount'",
      "\nDuring handling of the above exception, another exception occurred:\n",
      "\u001b[1;31mKeyError\u001b[0m                                  Traceback (most recent call last)",
      "\u001b[1;32m<ipython-input-8-b4dbfe9ca66f>\u001b[0m in \u001b[0;36m<module>\u001b[1;34m\u001b[0m\n\u001b[1;32m----> 1\u001b[1;33m \u001b[0mPPP_data\u001b[0m\u001b[1;33m[\u001b[0m\u001b[1;34m\"Loan Amount\"\u001b[0m\u001b[1;33m]\u001b[0m \u001b[1;33m=\u001b[0m \u001b[0mPPP_data\u001b[0m\u001b[1;33m[\u001b[0m\u001b[1;34m\"Loan Amount\"\u001b[0m\u001b[1;33m]\u001b[0m\u001b[1;33m.\u001b[0m\u001b[0mapply\u001b[0m\u001b[1;33m(\u001b[0m\u001b[0melises_func\u001b[0m\u001b[1;33m)\u001b[0m\u001b[1;33m\u001b[0m\u001b[1;33m\u001b[0m\u001b[0m\n\u001b[0m\u001b[0;32m      2\u001b[0m \u001b[0mPPP_data\u001b[0m\u001b[1;33m.\u001b[0m\u001b[0mhead\u001b[0m\u001b[1;33m(\u001b[0m\u001b[1;33m)\u001b[0m\u001b[1;33m\u001b[0m\u001b[1;33m\u001b[0m\u001b[0m\n",
      "\u001b[1;32m~\\anaconda3\\lib\\site-packages\\pandas\\core\\frame.py\u001b[0m in \u001b[0;36m__getitem__\u001b[1;34m(self, key)\u001b[0m\n\u001b[0;32m   2798\u001b[0m             \u001b[1;32mif\u001b[0m \u001b[0mself\u001b[0m\u001b[1;33m.\u001b[0m\u001b[0mcolumns\u001b[0m\u001b[1;33m.\u001b[0m\u001b[0mnlevels\u001b[0m \u001b[1;33m>\u001b[0m \u001b[1;36m1\u001b[0m\u001b[1;33m:\u001b[0m\u001b[1;33m\u001b[0m\u001b[1;33m\u001b[0m\u001b[0m\n\u001b[0;32m   2799\u001b[0m                 \u001b[1;32mreturn\u001b[0m \u001b[0mself\u001b[0m\u001b[1;33m.\u001b[0m\u001b[0m_getitem_multilevel\u001b[0m\u001b[1;33m(\u001b[0m\u001b[0mkey\u001b[0m\u001b[1;33m)\u001b[0m\u001b[1;33m\u001b[0m\u001b[1;33m\u001b[0m\u001b[0m\n\u001b[1;32m-> 2800\u001b[1;33m             \u001b[0mindexer\u001b[0m \u001b[1;33m=\u001b[0m \u001b[0mself\u001b[0m\u001b[1;33m.\u001b[0m\u001b[0mcolumns\u001b[0m\u001b[1;33m.\u001b[0m\u001b[0mget_loc\u001b[0m\u001b[1;33m(\u001b[0m\u001b[0mkey\u001b[0m\u001b[1;33m)\u001b[0m\u001b[1;33m\u001b[0m\u001b[1;33m\u001b[0m\u001b[0m\n\u001b[0m\u001b[0;32m   2801\u001b[0m             \u001b[1;32mif\u001b[0m \u001b[0mis_integer\u001b[0m\u001b[1;33m(\u001b[0m\u001b[0mindexer\u001b[0m\u001b[1;33m)\u001b[0m\u001b[1;33m:\u001b[0m\u001b[1;33m\u001b[0m\u001b[1;33m\u001b[0m\u001b[0m\n\u001b[0;32m   2802\u001b[0m                 \u001b[0mindexer\u001b[0m \u001b[1;33m=\u001b[0m \u001b[1;33m[\u001b[0m\u001b[0mindexer\u001b[0m\u001b[1;33m]\u001b[0m\u001b[1;33m\u001b[0m\u001b[1;33m\u001b[0m\u001b[0m\n",
      "\u001b[1;32m~\\anaconda3\\lib\\site-packages\\pandas\\core\\indexes\\base.py\u001b[0m in \u001b[0;36mget_loc\u001b[1;34m(self, key, method, tolerance)\u001b[0m\n\u001b[0;32m   2646\u001b[0m                 \u001b[1;32mreturn\u001b[0m \u001b[0mself\u001b[0m\u001b[1;33m.\u001b[0m\u001b[0m_engine\u001b[0m\u001b[1;33m.\u001b[0m\u001b[0mget_loc\u001b[0m\u001b[1;33m(\u001b[0m\u001b[0mkey\u001b[0m\u001b[1;33m)\u001b[0m\u001b[1;33m\u001b[0m\u001b[1;33m\u001b[0m\u001b[0m\n\u001b[0;32m   2647\u001b[0m             \u001b[1;32mexcept\u001b[0m \u001b[0mKeyError\u001b[0m\u001b[1;33m:\u001b[0m\u001b[1;33m\u001b[0m\u001b[1;33m\u001b[0m\u001b[0m\n\u001b[1;32m-> 2648\u001b[1;33m                 \u001b[1;32mreturn\u001b[0m \u001b[0mself\u001b[0m\u001b[1;33m.\u001b[0m\u001b[0m_engine\u001b[0m\u001b[1;33m.\u001b[0m\u001b[0mget_loc\u001b[0m\u001b[1;33m(\u001b[0m\u001b[0mself\u001b[0m\u001b[1;33m.\u001b[0m\u001b[0m_maybe_cast_indexer\u001b[0m\u001b[1;33m(\u001b[0m\u001b[0mkey\u001b[0m\u001b[1;33m)\u001b[0m\u001b[1;33m)\u001b[0m\u001b[1;33m\u001b[0m\u001b[1;33m\u001b[0m\u001b[0m\n\u001b[0m\u001b[0;32m   2649\u001b[0m         \u001b[0mindexer\u001b[0m \u001b[1;33m=\u001b[0m \u001b[0mself\u001b[0m\u001b[1;33m.\u001b[0m\u001b[0mget_indexer\u001b[0m\u001b[1;33m(\u001b[0m\u001b[1;33m[\u001b[0m\u001b[0mkey\u001b[0m\u001b[1;33m]\u001b[0m\u001b[1;33m,\u001b[0m \u001b[0mmethod\u001b[0m\u001b[1;33m=\u001b[0m\u001b[0mmethod\u001b[0m\u001b[1;33m,\u001b[0m \u001b[0mtolerance\u001b[0m\u001b[1;33m=\u001b[0m\u001b[0mtolerance\u001b[0m\u001b[1;33m)\u001b[0m\u001b[1;33m\u001b[0m\u001b[1;33m\u001b[0m\u001b[0m\n\u001b[0;32m   2650\u001b[0m         \u001b[1;32mif\u001b[0m \u001b[0mindexer\u001b[0m\u001b[1;33m.\u001b[0m\u001b[0mndim\u001b[0m \u001b[1;33m>\u001b[0m \u001b[1;36m1\u001b[0m \u001b[1;32mor\u001b[0m \u001b[0mindexer\u001b[0m\u001b[1;33m.\u001b[0m\u001b[0msize\u001b[0m \u001b[1;33m>\u001b[0m \u001b[1;36m1\u001b[0m\u001b[1;33m:\u001b[0m\u001b[1;33m\u001b[0m\u001b[1;33m\u001b[0m\u001b[0m\n",
      "\u001b[1;32mpandas\\_libs\\index.pyx\u001b[0m in \u001b[0;36mpandas._libs.index.IndexEngine.get_loc\u001b[1;34m()\u001b[0m\n",
      "\u001b[1;32mpandas\\_libs\\index.pyx\u001b[0m in \u001b[0;36mpandas._libs.index.IndexEngine.get_loc\u001b[1;34m()\u001b[0m\n",
      "\u001b[1;32mpandas\\_libs\\hashtable_class_helper.pxi\u001b[0m in \u001b[0;36mpandas._libs.hashtable.PyObjectHashTable.get_item\u001b[1;34m()\u001b[0m\n",
      "\u001b[1;32mpandas\\_libs\\hashtable_class_helper.pxi\u001b[0m in \u001b[0;36mpandas._libs.hashtable.PyObjectHashTable.get_item\u001b[1;34m()\u001b[0m\n",
      "\u001b[1;31mKeyError\u001b[0m: 'Loan Amount'"
     ]
    }
   ],
   "source": [
    "PPP_data[\"Loan Amount\"] = PPP_data[\"Loan Amount\"].apply(elises_func)\n",
    "PPP_data.head()"
   ]
  },
  {
   "cell_type": "code",
   "execution_count": null,
   "metadata": {},
   "outputs": [],
   "source": [
    "#which Race/Ethnicity had the most applications?\n",
    "PPP_data['RaceEthnicity'].value_counts()"
   ]
  },
  {
   "cell_type": "code",
   "execution_count": 9,
   "metadata": {},
   "outputs": [],
   "source": [
    "labels = [\"Unanswered\", \"White\", \"Asian\", \"Black or African American\", \"Hispanic\", \"American Indian or Alaska Native\", \"Puerto Rican\"]\n",
    "\n",
    "# The values of each section\n",
    "sizes = [124059, 8522, 3974, 1374, 524, 65, 1]\n",
    "\n",
    "# The colors of each section\n",
    "colors = [\"red\", \"orange\", \"lightcoral\", \"lightskyblue\", \"green\", \"yellow\", \"maroon\"]\n",
    "\n",
    "# \n",
    "explode = (0, 0, 0, 0, 0, 0, 0)"
   ]
  },
  {
   "cell_type": "code",
   "execution_count": 13,
   "metadata": {},
   "outputs": [
    {
     "data": {
      "text/plain": [
       "([<matplotlib.patches.Wedge at 0x7fc8704dd8d0>,\n",
       "  <matplotlib.patches.Wedge at 0x7fc8704f22d0>,\n",
       "  <matplotlib.patches.Wedge at 0x7fc8704f2d50>,\n",
       "  <matplotlib.patches.Wedge at 0x7fc870500890>,\n",
       "  <matplotlib.patches.Wedge at 0x7fc87050c590>,\n",
       "  <matplotlib.patches.Wedge at 0x7fc870497090>,\n",
       "  <matplotlib.patches.Wedge at 0x7fc870497910>],\n",
       " [Text(0.5699905614595273, -0.9408032524641128, 'Unanswered'),\n",
       "  Text(-0.43851120696383383, 1.008815107622364, 'White'),\n",
       "  Text(-0.7031121004081315, 0.8459511654106671, 'Asian'),\n",
       "  Text(-0.8003020910988616, 0.7546632116267425, 'Black or African American'),\n",
       "  Text(-0.83203622384566, 0.7195246501744433, 'Hispanic'),\n",
       "  Text(-0.8415734297794635, 0.7083460752268136, 'American Indian or Alaska Native'),\n",
       "  Text(-0.8426327894588581, 0.707085555027667, 'Puerto Rican')],\n",
       " [Text(0.31090394261428755, -0.5131654104349705, '89.6%'),\n",
       "  Text(-0.23918793107118205, 0.5502627859758348, '6.2%'),\n",
       "  Text(-0.3835156911317081, 0.4614279084058183, '2.9%'),\n",
       "  Text(-0.43652841332665177, 0.41163447906913225, '1.0%'),\n",
       "  Text(-0.45383794027945085, 0.3924679910042418, '0.4%'),\n",
       "  Text(-0.45904005260698, 0.38637058648735284, '0.0%'),\n",
       "  Text(-0.45961788515937707, 0.385683030015091, '0.0%')])"
      ]
     },
     "execution_count": 13,
     "metadata": {},
     "output_type": "execute_result"
    },
    {
     "data": {
      "image/png": "[encoded data removed]",
      "text/plain": [
       "<Figure size 432x288 with 1 Axes>"
      ]
     },
     "metadata": {},
     "output_type": "display_data"
    }
   ],
   "source": [
    "plt.pie(sizes, explode=explode, labels=labels, colors=colors,\n",
    "        autopct=\"%1.1f%%\", shadow=True, startangle=140)"
   ]
  },
  {
   "cell_type": "code",
   "execution_count": 14,
   "metadata": {},
   "outputs": [],
   "source": [
    "#take out \"Unanswered\" to see what results show up\n",
    "labels = [\"White\", \"Asian\", \"Black or African American\", \"Hispanic\", \"American Indian or Alaska Native\", \"Puerto Rican\"]\n",
    "\n",
    "# The values of each section\n",
    "sizes = [8522, 3974, 1374, 524, 65, 1]\n",
    "\n",
    "# The colors of each section\n",
    "colors = [\"red\", \"orange\", \"lightcoral\", \"lightskyblue\", \"green\", \"yellow\"]\n",
    "\n",
    "# \n",
    "explode = (0, 0, 0, 0, 0, 0)"
   ]
  },
  {
   "cell_type": "code",
   "execution_count": 15,
   "metadata": {},
   "outputs": [
    {
     "data": {
      "text/plain": [
       "([<matplotlib.patches.Wedge at 0x7fc870492650>,\n",
       "  <matplotlib.patches.Wedge at 0x7fc87041e050>,\n",
       "  <matplotlib.patches.Wedge at 0x7fc87041ead0>,\n",
       "  <matplotlib.patches.Wedge at 0x7fc870428610>,\n",
       "  <matplotlib.patches.Wedge at 0x7fc870434310>,\n",
       "  <matplotlib.patches.Wedge at 0x7fc870434dd0>],\n",
       " [Text(-0.4459543521970272, -1.0055469734211973, 'White'),\n",
       "  Text(0.8221334657703597, 0.7308191051555897, 'Asian'),\n",
       "  Text(-0.34370468504011753, 1.0449244419963932, 'Black or African American'),\n",
       "  Text(-0.733672611005425, 0.8195880061716877, 'Hispanic'),\n",
       "  Text(-0.8322676319289799, 0.7192569699650663, 'American Indian or Alaska Native'),\n",
       "  Text(-0.8424953014243388, 0.7072493669689022, 'Puerto Rican')],\n",
       " [Text(-0.24324782847110574, -0.548480167320653, '58.9%'),\n",
       "  Text(0.44843643587474163, 0.3986286028121398, '27.5%'),\n",
       "  Text(-0.18747528274915498, 0.5699587865434872, '9.5%'),\n",
       "  Text(-0.4001850605484136, 0.44704800336637507, '3.6%'),\n",
       "  Text(-0.4539641628703526, 0.3923219836173088, '0.4%'),\n",
       "  Text(-0.45954289168600293, 0.3857723819830375, '0.0%')])"
      ]
     },
     "execution_count": 15,
     "metadata": {},
     "output_type": "execute_result"
    },
    {
     "data": {
      "image/png": "[encoded data removed]",
      "text/plain": [
       "<Figure size 432x288 with 1 Axes>"
      ]
     },
     "metadata": {},
     "output_type": "display_data"
    }
   ],
   "source": [
    "plt.pie(sizes, explode=explode, labels=labels, colors=colors,\n",
    "        autopct=\"%1.1f%%\", shadow=True, startangle=140)"
   ]
  },
  {
   "cell_type": "code",
   "execution_count": 16,
   "metadata": {},
   "outputs": [
    {
     "data": {
      "text/plain": [
       "Unanswered                          124059\n",
       "White                                 8522\n",
       "Asian                                 3974\n",
       "Black or African American             1374\n",
       "Hispanic                               525\n",
       "American Indian or Alaska Native        65\n",
       "Name: RaceEthnicity, dtype: int64"
      ]
     },
     "execution_count": 16,
     "metadata": {},
     "output_type": "execute_result"
    }
   ],
   "source": [
    "# Clean up Employer category. Replace 'Self Employed' and 'Self' with 'Self-Employed'\n",
    "PPP_data['RaceEthnicity'] = PPP_data['RaceEthnicity'].replace(\n",
    "    {'Puerto Rican': 'Hispanic'})\n",
    "PPP_data['RaceEthnicity'].value_counts()"
   ]
  },
  {
   "cell_type": "code",
   "execution_count": 22,
   "metadata": {},
   "outputs": [],
   "source": [
    "#take out \"Unanswered\" to see what results show up, as well as a new one with Hispanic/Puerto Rican combined\n",
    "labels = [\"White\", \"Asian\", \"Black or African American\", \"Hispanic\", \"American Indian or Alaska Native\"]\n",
    "\n",
    "# The values of each section\n",
    "sizes = [8522, 3974, 1374, 525, 65]\n",
    "\n",
    "# The colors of each section\n",
    "colors = [\"red\", \"orange\", \"lightcoral\", \"lightskyblue\", \"green\"]\n",
    "\n",
    "# \n",
    "explode = (0.4, 0.4, 0.4, 0.4, 0.4)"
   ]
  },
  {
   "cell_type": "code",
   "execution_count": 23,
   "metadata": {},
   "outputs": [
    {
     "data": {
      "text/plain": [
       "([<matplotlib.patches.Wedge at 0x16b3f27bdc8>,\n",
       "  <matplotlib.patches.Wedge at 0x16b3f283f08>,\n",
       "  <matplotlib.patches.Wedge at 0x16b3f28d448>,\n",
       "  <matplotlib.patches.Wedge at 0x16b3f295808>,\n",
       "  <matplotlib.patches.Wedge at 0x16b3f299f88>],\n",
       " [Text(-0.6081195711777644, -1.3712004183016326, 'White'),\n",
       "  Text(1.1210910896868542, 0.9965715070303496, 'Asian'),\n",
       "  Text(-0.46868820687288754, 1.424896966358718, 'Black or African American'),\n",
       "  Text(-1.0007054428745301, 1.1174026206346979, 'Hispanic'),\n",
       "  Text(-1.135336481137943, 0.9803117231765177, 'American Indian or Alaska Native')],\n",
       " [Text(-0.4054130474518429, -0.9141336122010884, '58.9%'),\n",
       "  Text(0.7473940597912361, 0.6643810046868996, '27.5%'),\n",
       "  Text(-0.312458804581925, 0.9499313109058121, '9.5%'),\n",
       "  Text(-0.6671369619163534, 0.7449350804231318, '3.6%'),\n",
       "  Text(-0.7568909874252953, 0.6535411487843451, '0.4%')])"
      ]
     },
     "execution_count": 23,
     "metadata": {},
     "output_type": "execute_result"
    },
    {
     "data": {
      "image/png": "[encoded data removed]",
      "text/plain": [
       "<Figure size 432x288 with 1 Axes>"
      ]
     },
     "metadata": {},
     "output_type": "display_data"
    }
   ],
   "source": [
    "plt.pie(sizes, explode=explode, labels=labels, colors=colors,\n",
    "        autopct=\"%1.1f%%\", shadow=True, startangle=140)"
   ]
  },
  {
   "cell_type": "code",
   "execution_count": null,
   "metadata": {},
   "outputs": [],
   "source": []
  },
  {
   "cell_type": "code",
   "execution_count": 19,
   "metadata": {},
   "outputs": [
    {
     "data": {
      "text/plain": [
       "RaceEthnicity\n",
       "American Indian or Alaska Native    3.060811e+06\n",
       "Asian                               1.331491e+08\n",
       "Black or African American           4.452599e+07\n",
       "Hispanic                            2.112222e+07\n",
       "Unanswered                          3.800887e+09\n",
       "White                               3.850873e+08\n",
       "Name: Loan Amount, dtype: float64"
      ]
     },
     "execution_count": 19,
     "metadata": {},
     "output_type": "execute_result"
    }
   ],
   "source": [
    "#Which Race/Ethnicity Recieved the Most Money? LBR=Loan By Race\n",
    "LBR_df = PPP_data.groupby(\"RaceEthnicity\").sum()[\"Loan Amount\"]\n",
    "LBR_df"
   ]
  },
  {
   "cell_type": "code",
   "execution_count": 26,
   "metadata": {},
   "outputs": [
    {
     "data": {
      "image/png": "[encoded data removed]",
      "text/plain": [
       "<Figure size 432x288 with 1 Axes>"
      ]
     },
     "metadata": {
      "needs_background": "light"
     },
     "output_type": "display_data"
    }
   ],
   "source": [
    "#graph it\n",
    "LBR_df = PPP_data.groupby(\"RaceEthnicity\").sum()[\"Loan Amount\"]\n",
    "objects = ('American Indian or Alaska Native', 'Asian', 'Black', 'Hispanic','White')\n",
    "y_pos = np.arange(len(objects))\n",
    "performance = [3.060811e+06,1.331491e+08,4.452599e+07,2.112222e+07,3.850873e+08]\n",
    "\n",
    "plt.barh(y_pos, performance, color=\"g\", align='center', alpha=0.5)\n",
    "plt.yticks(y_pos, objects)\n",
    "plt.xlabel('Loan Amount')\n",
    "plt.title('Race/Ethnicity Business Owned Loan Amount')\n",
    "\n",
    "plt.show()"
   ]
  },
  {
   "cell_type": "code",
   "execution_count": null,
   "metadata": {},
   "outputs": [],
   "source": []
  }
 ],
 "metadata": {
  "kernelspec": {
   "display_name": "Python 3",
   "language": "python",
   "name": "python3"
  },
  "language_info": {
   "codemirror_mode": {
    "name": "ipython",
    "version": 3
   },
   "file_extension": ".py",
   "mimetype": "text/x-python",
   "name": "python",
   "nbconvert_exporter": "python",
   "pygments_lexer": "ipython3",
   "version": "3.7.6"
  }
 },
 "nbformat": 4,
 "nbformat_minor": 4
}
